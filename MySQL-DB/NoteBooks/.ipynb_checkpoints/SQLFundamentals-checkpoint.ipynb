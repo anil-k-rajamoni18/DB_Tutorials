{
 "cells": [
  {
   "cell_type": "markdown",
   "id": "1734c0e8",
   "metadata": {},
   "source": [
    "## What is Data & type of data?\n",
    "\n",
    "🚀 In computing, data is information that has been translated into a form that is efficient for movement or processing\n",
    "\n",
    "![](https://www.selecthub.com/wp-content/uploads/2020/03/Types-of-Big-Data-Infographic-1024x536.png)\n",
    "\n",
    "![](https://intellipaat.com/mediaFiles/2016/07/Scope-Of-Hadoop.jpg)\n",
    "\n"
   ]
  },
  {
   "cell_type": "code",
   "execution_count": null,
   "id": "038760fa",
   "metadata": {},
   "outputs": [],
   "source": []
  },
  {
   "cell_type": "markdown",
   "id": "a88165b3",
   "metadata": {
    "id": "a88165b3"
   },
   "source": [
    "\n",
    "\n",
    "![](https://images.squarespace-cdn.com/content/v1/5f40c09c48e0fd517ae1f97b/1598788724225-1LNGVD6GP7XYMUDQV9G8/Database.jpg)\n",
    "\n",
    "> A database is an organized collection of structured information, or data, typically stored electronically in a computer system.\n",
    "\n",
    "**A database is usually controlled by a database management system (DBMS).**\n",
    "\n",
    "- Together, the data and the DBMS, along with the applications that are associated with them, are referred to as a database system, often shortened to just database.\n",
    "\n",
    "\n",
    "```Data within the most common types of databases in operation today is typically modeled in rows and columns in a series of tables to make processing and data querying efficient. ```\n",
    "\n",
    "```The data can then be easily accessed, managed, modified, updated, controlled, and organized. ```\n",
    "\n",
    "- Most databases use structured query language (SQL) for writing and querying data."
   ]
  },
  {
   "cell_type": "code",
   "execution_count": null,
   "id": "d28069ca",
   "metadata": {},
   "outputs": [],
   "source": []
  },
  {
   "cell_type": "markdown",
   "id": "5815d936",
   "metadata": {
    "id": "5815d936"
   },
   "source": [
    "### Evolution of the database\n",
    "![](https://i0.wp.com/examplanning.com/wp-content/uploads/2018/06/chapter-1-in-modern-database-management-50-638.jpg?w=1060&ssl=1)"
   ]
  },
  {
   "cell_type": "markdown",
   "id": "9f0b4230",
   "metadata": {
    "id": "9f0b4230"
   },
   "source": [
    "- Databases have evolved dramatically since their inception in the early 1960s.\n",
    "\n",
    "- **Navigational databases** such as the hierarchical database (which relied on a tree-like model and allowed only a one-to-many relationship), and\n",
    "\n",
    "- **Network database** (a more flexible model that allowed multiple relationships), were the original systems used to store and manipulate data.\n",
    "\n",
    "- In the 1980s, relational databases became popular, followed by object-oriented databases in the 1990s.\n",
    "\n",
    "*More recently, NoSQL databases came about as a response to the growth of the internet and the need for faster speed and processing of unstructured data.*\n",
    "\n",
    "```Today, cloud databases and self-driving databases are breaking new ground when it comes to how data is collected, stored, managed, and utilized.```"
   ]
  },
  {
   "cell_type": "code",
   "execution_count": null,
   "id": "f712f336",
   "metadata": {},
   "outputs": [],
   "source": []
  },
  {
   "cell_type": "markdown",
   "id": "cb063e52",
   "metadata": {
    "id": "cb063e52"
   },
   "source": [
    "### Types\n",
    "\n",
    "```There are many different types of databases. The best database for a specific organization depends on how the organization intends to use the data. ```\n",
    "\n",
    "\n",
    "![](https://substackcdn.com/image/fetch/f_auto,q_auto:good,fl_progressive:steep/https%3A%2F%2Fsubstack-post-media.s3.amazonaws.com%2Fpublic%2Fimages%2Fcb5bb38f-5383-495d-aed8-cf1d0a44e03b_1600x1600.png)\n",
    "\n",
    "**Relational databases**\n",
    "\n",
    "- Relational databases became dominant in the 1980s.\n",
    "- Items in a relational database are organized as a set of tables with columns and rows.\n",
    "- Relational database technology provides the most efficient and flexible way to access structured information.\n",
    "\n",
    "    \n",
    "**Object-oriented databases**\n",
    "   \n",
    "   - Information in an object-oriented database is represented in the form of objects, as in object-oriented programming.\n",
    "    \n",
    "    \n",
    "**Distributed databases**\n",
    "    \n",
    "- A distributed database consists of two or more files located in different sites. The database may be stored on multiple computers, located in the same physical location, or scattered over different networks.\n",
    "\n",
    "   \n",
    "**Data warehouses**\n",
    "    \n",
    "- A central repository for data, a data warehouse is a type of database specifically designed for fast query and analysis.\n",
    "    \n",
    "    \n",
    "**NoSQL databases**\n",
    "\n",
    "   -  A NoSQL, or nonrelational database, allows unstructured and semistructured data to be stored and manipulated (in contrast to a relational database, which defines how all data inserted into the database must be composed).\n",
    "   - NoSQL databases grew popular as web applications became more common and more complex.\n",
    "    \n",
    "    \n",
    "    \n",
    "**Graph databases**\n",
    "  - A graph database stores data in terms of entities and the relationships between entities.\n",
    "    \n",
    "    \n",
    "**OLTP databases.**\n",
    "  - An OLTP database is a speedy, analytic database designed for large numbers of transactions performed by multiple users.\n",
    "\n",
    "\n",
    "**Some of the latest databases include**\n",
    "\n",
    "   - Open source databases\n",
    "   - Cloud databases\n",
    "   - Multimodel database\n",
    "   - Document/JSON database\n"
   ]
  },
  {
   "cell_type": "code",
   "execution_count": null,
   "id": "0c160627",
   "metadata": {
    "id": "0c160627"
   },
   "outputs": [],
   "source": []
  },
  {
   "cell_type": "code",
   "execution_count": null,
   "id": "154b952a",
   "metadata": {
    "id": "154b952a"
   },
   "outputs": [],
   "source": []
  },
  {
   "cell_type": "markdown",
   "id": "9d147f87",
   "metadata": {
    "id": "9d147f87"
   },
   "source": [
    "### What is a database management system (DBMS)?\n",
    "\n",
    "\n",
    "> A database typically requires a comprehensive database software program known as a database management system (DBMS).\n",
    "\n",
    "```A DBMS serves as an interface between the database and its end users or programs, allowing users to retrieve, update, and manage how the information is organized and optimized.```\n",
    "\n",
    "- A DBMS also facilitates oversight and control of databases, enabling a variety of administrative operations such as performance monitoring, tuning, and backup and recovery.\n",
    "\n",
    "- Some examples of popular database software or DBMSs include MySQL, Microsoft Access, Microsoft SQL Server, FileMaker Pro, Oracle Database, and dBASE.\n",
    "\n",
    "![](https://miro.medium.com/v2/resize:fit:1200/0*kUHyd26FyzKeoiZX.png)"
   ]
  },
  {
   "cell_type": "code",
   "execution_count": null,
   "id": "9f103210",
   "metadata": {
    "id": "9f103210"
   },
   "outputs": [],
   "source": []
  },
  {
   "cell_type": "markdown",
   "id": "d792522f",
   "metadata": {
    "id": "d792522f"
   },
   "source": [
    "### Database challenges\n",
    "\n",
    "Today’s large enterprise databases often support very complex queries and are expected to deliver nearly instant responses to those queries. As a result, database administrators are constantly called upon to employ a wide variety of methods to help improve performance.\n",
    "\n",
    "- Some common challenges that they face include:\n",
    "\n",
    "    - Absorbing significant increases in data volume.\n",
    "    - Ensuring data security.\n",
    "    - Keeping up with demand.\n",
    "    - Managing and maintaining the database and infrastructure.\n",
    "    - Removing limits on scalability.\n",
    "    - Ensuring data residency, data sovereignty, or latency requirements.\n"
   ]
  },
  {
   "cell_type": "code",
   "execution_count": null,
   "id": "9bd1354e",
   "metadata": {
    "id": "9bd1354e"
   },
   "outputs": [],
   "source": []
  },
  {
   "cell_type": "markdown",
   "id": "a1be1004",
   "metadata": {
    "id": "a1be1004"
   },
   "source": [
    "### What is a MySQL database?\n",
    "\n",
    "```MySQL is an open source relational database management system based on SQL. ```\n",
    "\n",
    "- It was designed and optimized for web applications and can run on any platform.\n",
    "\n",
    "- As new and different requirements emerged with the internet, MySQL became the platform of choice for web developers and web-based applications.\n",
    "\n",
    "**Because it’s designed to process millions of queries and thousands of transactions, MySQL is a popular choice for ecommerce businesses that need to manage multiple money transfers. On-demand flexibility is the primary feature of MySQL**.\n",
    "\n",
    "- MySQL is the DBMS behind some of the top websites and web-based applications in the world, including Airbnb, Uber, LinkedIn, Facebook, Twitter, and YouTube.\n",
    "\n",
    "\n",
    "MySQL is a widely used relational database management system (RDBMS).\n",
    "\n",
    "MySQL is free and open-source.\n",
    "\n",
    "MySQL is ideal for both small and large applications.\n",
    "\n",
    "![](https://cdn.educba.com/academy/wp-content/uploads/2023/03/What-is-MySQL-2.jpg)"
   ]
  },
  {
   "cell_type": "code",
   "execution_count": null,
   "id": "49873f02",
   "metadata": {
    "id": "49873f02"
   },
   "outputs": [],
   "source": []
  },
  {
   "cell_type": "markdown",
   "id": "0c8ad5a9",
   "metadata": {
    "id": "0c8ad5a9"
   },
   "source": [
    "## Relation vs Non Relation Database\n",
    "\n",
    "![](https://miro.medium.com/v2/resize:fit:537/1*n7kh9bN_fW3F2PgCUT-3Uw.png)\n",
    "\n",
    "\n",
    "<br> <br>\n",
    "\n",
    "![](https://assets-global.website-files.com/6344c9cef89d6f2270a38908/647f91e3969c71192d61c422_9.png)\n",
    "\n",
    "<br> <br>"
   ]
  },
  {
   "cell_type": "code",
   "execution_count": null,
   "id": "a348f5cd",
   "metadata": {
    "id": "a348f5cd"
   },
   "outputs": [],
   "source": []
  },
  {
   "cell_type": "code",
   "execution_count": null,
   "id": "3baa193a",
   "metadata": {
    "id": "3baa193a"
   },
   "outputs": [],
   "source": []
  },
  {
   "cell_type": "markdown",
   "id": "2cf518be",
   "metadata": {
    "id": "2cf518be"
   },
   "source": [
    "### Difference between SQL vs NOSQL\n",
    "\n",
    "![](https://www.ml4devs.com/images/illustrations/sql-vs-nosql-comparision.webp)"
   ]
  },
  {
   "cell_type": "code",
   "execution_count": null,
   "id": "27cf1df4",
   "metadata": {
    "id": "27cf1df4"
   },
   "outputs": [],
   "source": []
  },
  {
   "cell_type": "markdown",
   "id": "8218b658",
   "metadata": {
    "id": "8218b658"
   },
   "source": [
    "### Installation\n",
    "\n",
    "- Please click on the below link for MySql Community Server download\n",
    "- https://dev.mysql.com/downloads/installer/\n",
    "\n",
    "- Choose following components\n",
    "    - WorkBench\n",
    "    - Shell\n",
    "    - Server\n",
    "    - Connectors\n",
    "\n",
    "\n",
    "<br> <br>\n",
    "-  1. Installation floder/path -> C:\\Program Files\\MySQL\n",
    "- 2. Add the path to the environment variables (System variables --> Path) paste the following paste\n",
    "\n",
    "        C:\\Program Files\\MySQL\\MySQL Server 8.0\\bin\n",
    "\n",
    "- 3. check the version , by opening CMD\n",
    "\n",
    "\n",
    "```sql\n",
    "mysql --version\n",
    "```\n",
    "    \n",
    "    \n",
    "<br> <br>\n",
    "\n",
    "Popular commands\n",
    "- https://www.mysqltutorial.org/mysql-cheat-sheet.aspx\n",
    "\n",
    "Datatypes\n",
    "- https://www.w3schools.com/mysql/mysql_datatypes.asp\n"
   ]
  },
  {
   "cell_type": "markdown",
   "id": "99a6ea45",
   "metadata": {
    "id": "99a6ea45"
   },
   "source": [
    "### Connecting with MySQL Shell\n",
    "\n",
    "- check the version\n",
    "   \n",
    "   mysql --version\n",
    "    \n",
    "- connect to MySql Server\n",
    "\n",
    "    mysql -u root -p\n",
    "   \n",
    "\n"
   ]
  },
  {
   "cell_type": "code",
   "execution_count": null,
   "id": "bb42bdd8",
   "metadata": {},
   "outputs": [],
   "source": []
  },
  {
   "cell_type": "markdown",
   "id": "636a5cde",
   "metadata": {
    "id": "d2b78fcd"
   },
   "source": [
    "### Commands"
   ]
  },
  {
   "cell_type": "markdown",
   "id": "ce521fb2",
   "metadata": {
    "id": "ce521fb2"
   },
   "source": [
    "**creating a database**\n",
    "\n",
    "```sql\n",
    "CREATE DATABASE databasename;\n",
    "\n",
    "ex: CREATE DATABASE pyDB;\n",
    "```\n",
    "\n",
    "**dropping a database**\n",
    "```sql\n",
    "DROP DATABASE databasename;\n",
    "\n",
    "ex: DROP DATABASE pyDB;\n",
    "```\n",
    "\n",
    "\n",
    "\n",
    "**switch/enable database**\n",
    "```sql\n",
    "USE DATABASE_NAME\n",
    "```\n",
    "\n",
    "**table creation**\n",
    "\n",
    "```sql\n",
    "CREATE TABLE table_name (\n",
    "    column1 datatype constraint,\n",
    "    column2 datatype constraint,\n",
    "    column3 datatype constraint,\n",
    "   ....\n",
    ");\n",
    "\n",
    "ex:\n",
    "\n",
    "     CREATE TABLE person (\n",
    "        person_id int,\n",
    "        last_name varchar(255),\n",
    "        first_name varchar(255),\n",
    "        address varchar(255),\n",
    "        city varchar(255)\n",
    "    );\n",
    "\n",
    "-- Follow snake_case or camelCase for column-names\n",
    "-- Follow lowercase for table-names\n",
    "\n",
    "```\n",
    "\n",
    "**creating table from another existing table**\n",
    "```sql\n",
    "CREATE TABLE new_table_name AS\n",
    "    SELECT column1, column2,...\n",
    "    FROM existing_table_name\n",
    "    WHERE ....;\n",
    "\n",
    "ex:\n",
    "    CREATE TABLE TestTable AS\n",
    "    SELECT customername, contactname\n",
    "    FROM customers;\n",
    "```\n",
    "\n",
    "\n",
    "**drop a table**\n",
    "```sql\n",
    "DROP TABLE table_name;\n",
    "\n",
    "ex:\n",
    "    DROP TABLE person;\n",
    "```\n",
    "\n",
    "**Truncate the table**\n",
    "- The TRUNCATE TABLE statement is used to delete the data inside a table, but not the table itself.\n",
    "```sql\n",
    "    TRUNCATE TABLE table_name;\n",
    "\n",
    "ex:\n",
    "    TRUNCATE TABLE TestTable\n",
    "```\n",
    "\n",
    "**Alter the table**\n",
    "- The ALTER TABLE statement is used to add, delete, or modify columns in an existing table.\n",
    "\n",
    "- The ALTER TABLE statement is also used to add and drop various constraints on an existing table.\n",
    "\n",
    "\n",
    "```sql\n",
    "    ALTER TABLE table_name\n",
    "    ADD column_name datatype;\n",
    "    \n",
    "    ALTER TABLE table_name\n",
    "    DROP COLUMN column_name;\n",
    "    \n",
    "    ALTER TABLE table_name\n",
    "    MODIFY COLUMN column_name datatype;\n",
    "\n",
    "ex:\n",
    "    ALTER TABLE Customers\n",
    "    ADD email varchar(255);\n",
    "    \n",
    "    ALTER TABLE Customers\n",
    "    DROP COLUMN email;\n",
    "    \n",
    "    ALTER TABLE Persons\n",
    "    ADD DateOfBirth date;\n",
    "    \n",
    "    ALTER TABLE Persons\n",
    "    MODIFY COLUMN DateOfBirth year;\n",
    "```"
   ]
  },
  {
   "cell_type": "code",
   "execution_count": null,
   "id": "7bdcda3f",
   "metadata": {
    "id": "7bdcda3f"
   },
   "outputs": [],
   "source": []
  },
  {
   "cell_type": "code",
   "execution_count": null,
   "id": "85424ecf",
   "metadata": {
    "id": "85424ecf"
   },
   "outputs": [],
   "source": []
  },
  {
   "cell_type": "code",
   "execution_count": null,
   "id": "3f9eb00d",
   "metadata": {
    "id": "3f9eb00d"
   },
   "outputs": [],
   "source": []
  },
  {
   "cell_type": "markdown",
   "id": "29928458",
   "metadata": {
    "id": "29928458"
   },
   "source": [
    "### MySQL Constraints\n",
    "\n",
    "- SQL constraints are used to specify rules for data in a table.\n",
    "- Constraints are used to limit the type of data that can go into a table\n",
    "- This ensures the accuracy and reliability of the data in the table. If there is any violation between the constraint and the data action, the action is aborted.\n",
    "- Constraints can be column level or table level. Column level constraints apply to a column, and table level constraints apply to the whole table.\n",
    "\n",
    "- Constraints can be specified when the table is created with the CREATE TABLE statement, or after the table is created with the ALTER TABLE statement.\n",
    "\n",
    "\n",
    "```sql\n",
    "CREATE TABLE table_name (\n",
    "    column1 datatype constraint,\n",
    "    column2 datatype constraint,\n",
    "    column3 datatype constraint,\n",
    "    ....\n",
    ");\n",
    "```\n",
    "\n",
    "\n",
    "\n",
    "- NOT NULL - Ensures that a column cannot have a NULL value\n",
    "- UNIQUE - Ensures that all values in a column are different\n",
    "- PRIMARY KEY - A combination of a NOT NULL and UNIQUE. Uniquely identifies each row in a table\n",
    "- FOREIGN KEY - Prevents actions that would destroy links between tables\n",
    "- CHECK - Ensures that the values in a column satisfies a specific condition\n",
    "- DEFAULT - Sets a default value for a column if no value is specified.\n",
    "- CREATE INDEX - Used to create and retrieve data from the database very quickly"
   ]
  },
  {
   "cell_type": "markdown",
   "id": "4e5714d9",
   "metadata": {
    "id": "4e5714d9"
   },
   "source": [
    "#### NOT NULL\n",
    "- By default, a column can hold NULL values.\n",
    "- The NOT NULL constraint enforces a column to NOT accept NULL values.\n",
    "> This enforces a field to always contain a value, which means that you cannot insert a new record, or update a record without adding a value to this field.\n",
    "\n",
    "\n",
    "```sql\n",
    "CREATE TABLE Persons (\n",
    "    ID int NOT NULL,\n",
    "    LastName varchar(255) NOT NULL,\n",
    "    FirstName varchar(255) NOT NULL,\n",
    "    Age int\n",
    ");\n",
    "\n",
    "\n",
    "ALTER TABLE Persons\n",
    "MODIFY Age int NOT NULL;\n",
    "\n",
    "```"
   ]
  },
  {
   "cell_type": "markdown",
   "id": "1c901823",
   "metadata": {
    "id": "1c901823"
   },
   "source": [
    "##### UNIQUE Constraint\n",
    "- The UNIQUE constraint ensures that all values in a column are different.\n",
    "- Both the UNIQUE and PRIMARY KEY constraints provide a guarantee for uniqueness for a column or set of columns.\n",
    "- A PRIMARY KEY constraint automatically has a UNIQUE constraint.\n",
    "\n",
    "**However, we can have many UNIQUE constraints per table, but only one PRIMARY KEY constraint per table.**\n",
    "\n",
    "```sql\n",
    "CREATE TABLE Persons (\n",
    "    ID int NOT NULL,\n",
    "    LastName varchar(255) NOT NULL,\n",
    "    FirstName varchar(255),\n",
    "    Age int,\n",
    "    UNIQUE (ID)\n",
    ");\n",
    "\n",
    "\n",
    "!-- To name a UNIQUE constraint, and to define a UNIQUE constraint on multiple columns, use the following SQL syntax:\n",
    "\n",
    "\n",
    "CREATE TABLE Persons (\n",
    "    ID int NOT NULL,\n",
    "    LastName varchar(255) NOT NULL,\n",
    "    FirstName varchar(255),\n",
    "    Age int,\n",
    "    CONSTRAINT UC_Person UNIQUE (ID,LastName)\n",
    ");\n",
    "\n",
    "\n",
    "!-- To name a UNIQUE constraint, and to define a UNIQUE constraint on multiple columns, use the following SQL syntax:\n",
    "\n",
    "ALTER TABLE Persons\n",
    "ADD CONSTRAINT UC_Person UNIQUE (ID,LastName);\n",
    "\n",
    "!-- To drop a UNIQUE constraint, use the following SQL:\n",
    "\n",
    "ALTER TABLE Persons\n",
    "DROP CONSTRAINT UC_Person;\n",
    "```\n",
    "\n"
   ]
  },
  {
   "cell_type": "markdown",
   "id": "9626575c",
   "metadata": {
    "id": "9626575c"
   },
   "source": [
    "#### PRIMARY KEY Constraint\n",
    "\n",
    "- The PRIMARY KEY constraint uniquely identifies each record in a table.\n",
    "- Primary keys must contain UNIQUE values, and cannot contain NULL values.\n",
    "\n",
    "- A table can have only ONE primary key; and in the table, this primary key can consist of single or multiple columns (fields).\n",
    "\n",
    "```sql\n",
    "CREATE TABLE Persons (\n",
    "    ID int NOT NULL,\n",
    "    LastName varchar(255) NOT NULL,\n",
    "    FirstName varchar(255),\n",
    "    Age int,\n",
    "    PRIMARY KEY (ID)\n",
    ");\n",
    "\n",
    "\n",
    "CREATE TABLE Persons (\n",
    "    ID int NOT NULL,\n",
    "    LastName varchar(255) NOT NULL,\n",
    "    FirstName varchar(255),\n",
    "    Age int,\n",
    "    CONSTRAINT PK_Person PRIMARY KEY (ID,LastName)\n",
    ");\n",
    "\n",
    "\n",
    "ALTER TABLE Persons\n",
    "ADD PRIMARY KEY (ID);\n",
    "\n",
    "ALTER TABLE Persons\n",
    "ADD CONSTRAINT PK_Person PRIMARY KEY (ID,LastName);\n",
    "\n",
    "ALTER TABLE Persons\n",
    "DROP PRIMARY KEY;\n",
    "\n",
    "```"
   ]
  },
  {
   "cell_type": "markdown",
   "id": "d6962c2e",
   "metadata": {
    "id": "d6962c2e"
   },
   "source": [
    "#### CHECK Constraint\n",
    "\n",
    "- The CHECK constraint is used to limit the value range that can be placed in a column.\n",
    "\n",
    "- defining a CHECK constraint on a column it will allow only certain values for this column.\n",
    "\n",
    "- defining a CHECK constraint on a table it can limit the values in certain columns based on values in other columns in the row.\n",
    "\n",
    "\n",
    "```sql\n",
    "CREATE TABLE Persons (\n",
    "    ID int NOT NULL,\n",
    "    LastName varchar(255) NOT NULL,\n",
    "    FirstName varchar(255),\n",
    "    Age int,\n",
    "    CHECK (Age>=18)\n",
    ");\n",
    "\n",
    "\n",
    "CREATE TABLE Persons (\n",
    "    ID int NOT NULL,\n",
    "    LastName varchar(255) NOT NULL,\n",
    "    FirstName varchar(255),\n",
    "    Age int,\n",
    "    City varchar(255),\n",
    "    CONSTRAINT CHK_Person CHECK (Age>=18 AND City='Sandnes')\n",
    ");\n",
    "\n",
    "\n",
    "ALTER TABLE Persons\n",
    "ADD CHECK (Age>=18);\n",
    "\n",
    "\n",
    "ALTER TABLE Persons\n",
    "ADD CONSTRAINT CHK_PersonAge CHECK (Age>=18 AND City='Sandnes');\n",
    "\n",
    "\n",
    "ALTER TABLE Persons\n",
    "DROP CHECK CHK_PersonAge;\n",
    "```\n"
   ]
  },
  {
   "cell_type": "markdown",
   "id": "b98e434b",
   "metadata": {
    "id": "b98e434b"
   },
   "source": [
    "#### DEFAULT Constraint\n",
    "\n",
    "- The DEFAULT constraint is used to set a default value for a column.\n",
    "\n",
    "- The default value will be added to all new records, if no other value is specified.\n",
    "\n",
    "\n",
    "```sql\n",
    "CREATE TABLE Persons (\n",
    "    ID int NOT NULL,\n",
    "    LastName varchar(255) NOT NULL,\n",
    "    FirstName varchar(255),\n",
    "    Age int,\n",
    "    City varchar(255) DEFAULT 'Sandnes'\n",
    ");\n",
    "\n",
    "\n",
    "-- The DEFAULT constraint can also be used to insert system values, by using functions like CURRENT_DATE():\n",
    "\n",
    "\n",
    "CREATE TABLE Orders (\n",
    "    ID int NOT NULL,\n",
    "    OrderNumber int NOT NULL,\n",
    "    OrderDate date DEFAULT CURRENT_DATE()\n",
    ");\n",
    "\n",
    "\n",
    "\n",
    "-- To create a DEFAULT constraint on the \"City\" column when the table is already created.\n",
    "\n",
    "\n",
    "ALTER TABLE Persons\n",
    "ALTER City SET DEFAULT 'Sandnes';\n",
    "\n",
    "\n",
    "-- To drop a DEFAULT constraint,\n",
    "\n",
    "\n",
    "ALTER TABLE Persons\n",
    "ALTER City DROP DEFAULT;\n",
    "```"
   ]
  },
  {
   "cell_type": "markdown",
   "id": "4848d245",
   "metadata": {
    "id": "4848d245"
   },
   "source": [
    "#### AUTO INCREMENT Field\n",
    "\n",
    "- Auto-increment allows a unique number to be generated automatically when a new record is inserted into a table.\n",
    "- This is the primary key field that we would like to be created automatically every time a new record is inserted.\n",
    "\n",
    "- MySQL uses the AUTO_INCREMENT keyword to perform an auto-increment feature.\n",
    "- By default, the starting value for AUTO_INCREMENT is 1, and it will increment by 1 for each new record.\n",
    "\n",
    "\n",
    "```sql\n",
    "CREATE TABLE Persons (\n",
    "    Personid int NOT NULL AUTO_INCREMENT,\n",
    "    LastName varchar(255) NOT NULL,\n",
    "    FirstName varchar(255),\n",
    "    Age int,\n",
    "    PRIMARY KEY (Personid)\n",
    ");\n",
    "\n",
    "-- To let the AUTO_INCREMENT sequence start with another value\n",
    "\n",
    "ALTER TABLE Persons AUTO_INCREMENT=100;\n",
    "\n",
    "\n",
    "\n",
    "```"
   ]
  },
  {
   "cell_type": "markdown",
   "id": "97b2d2ae",
   "metadata": {
    "id": "97b2d2ae"
   },
   "source": [
    "## MySQL Dates\n",
    "\n",
    "- The most difficult part when working with dates is to be sure that the format of the date you are trying to insert, matches the format of the date column in the database.\n",
    "\n",
    "- MySQL comes with the following data types for storing a date or a date/time value in the database:\n",
    "\n",
    "```sql\n",
    "DATE - format YYYY-MM-DD\n",
    "DATETIME - format: YYYY-MM-DD HH:MI:SS\n",
    "TIMESTAMP - format: YYYY-MM-DD HH:MI:SS\n",
    "YEAR - format YYYY or YY\n",
    "\n",
    "```"
   ]
  },
  {
   "cell_type": "markdown",
   "id": "709b3b61",
   "metadata": {
    "id": "709b3b61"
   },
   "source": [
    "## What is a NULL Value?\n",
    "\n",
    "- A field with a NULL value is a field with no value.\n",
    "\n",
    "**If a field in a table is optional, it is possible to insert a new record or update a record without adding a value to this field. Then, the field will be saved with a NULL value.**\n",
    "\n",
    "\n",
    "```Note: A NULL value is different from a zero value or a field that contains spaces. A field with a NULL value is one that has been left blank during record creation!```\n",
    "\n",
    "- It is not possible to test for NULL values with comparison operators, such as =, <, or <>.\n",
    "- We will have to use the IS NULL and IS NOT NULL operators instead.\n",
    "\n"
   ]
  },
  {
   "cell_type": "markdown",
   "id": "82660fce",
   "metadata": {
    "id": "82660fce"
   },
   "source": [
    "###  FOREIGN KEY Constraint\n",
    "\n",
    "- The FOREIGN KEY constraint is used to prevent actions that would destroy links between tables.\n",
    "-  A FOREIGN KEY is a field (or collection of fields) in one table, that refers to the PRIMARY KEY in another table.\n",
    "- The table with the foreign key is called the child table, and the table with the primary key is called the referenced or parent table.\n",
    "\n",
    "**example**\n",
    "\n",
    "![](https://i.imgur.com/V5EqHIm.png)\n",
    "\n",
    "\n",
    "\n",
    "\n",
    "```sql\n",
    "CREATE TABLE Orders (\n",
    "    OrderID int NOT NULL,\n",
    "    OrderNumber int NOT NULL,\n",
    "    PersonID int,\n",
    "    PRIMARY KEY (OrderID),\n",
    "    FOREIGN KEY (PersonID) REFERENCES Persons(PersonID)\n",
    ");\n",
    "\n",
    "-- To allow naming of a FOREIGN KEY constraint, and for defining a FOREIGN KEY constraint on multiple columns, use the following SQL syntax:\n",
    "\n",
    "\n",
    "\n",
    "\n",
    "CREATE TABLE Orders (\n",
    "    OrderID int NOT NULL,\n",
    "    OrderNumber int NOT NULL,\n",
    "    PersonID int,\n",
    "    PRIMARY KEY (OrderID),\n",
    "    CONSTRAINT FK_PersonOrder FOREIGN KEY (PersonID)\n",
    "    REFERENCES Persons(PersonID)\n",
    ");\n",
    "\n",
    "-- To create a FOREIGN KEY constraint on the \"PersonID\" column when the \"Orders\" table is already created, use the following SQL:\n",
    "\n",
    "\n",
    "ALTER TABLE Orders\n",
    "ADD FOREIGN KEY (PersonID) REFERENCES Persons(PersonID);\n",
    "\n",
    "\n",
    "-- To allow naming of a FOREIGN KEY constraint, and for defining a FOREIGN KEY constraint on multiple columns, use the following SQL syntax:\n",
    "\n",
    "\n",
    "ALTER TABLE Orders\n",
    "ADD CONSTRAINT FK_PersonOrder\n",
    "FOREIGN KEY (PersonID) REFERENCES Persons(PersonID);\n",
    "\n",
    "\n",
    "-- To drop a FOREIGN KEY constraint, use the following SQL:\n",
    "\n",
    "\n",
    "ALTER TABLE Orders\n",
    "DROP FOREIGN KEY FK_PersonOrder;\n",
    "\n",
    "\n",
    "```"
   ]
  },
  {
   "cell_type": "markdown",
   "id": "b8c64770",
   "metadata": {
    "id": "b8c64770"
   },
   "source": [
    "## INSERTION\n",
    "\n",
    "- The INSERT INTO statement is used to insert new records in a table.\n",
    "- It is possible to write the INSERT INTO statement in two ways:\n",
    "\n",
    "1. Specify both the column names and the values to be inserted , and to be inserted specified columsn\n",
    "\n",
    "```sql\n",
    "INSERT INTO table_name (column1, column2, column3, ...)\n",
    "VALUES (value1, value2, value3, ...);\n",
    "\n",
    "```\n",
    "\n",
    "\n",
    "2. If you are adding values for all the columns of the table, you do not need to specify the column names in the SQL query\n",
    "\n",
    "```sql\n",
    "INSERT INTO table_name\n",
    "VALUES (value1, value2, value3, ...);\n",
    "\n",
    "```"
   ]
  },
  {
   "cell_type": "markdown",
   "id": "wF0YbmpvdS_2",
   "metadata": {
    "id": "wF0YbmpvdS_2"
   },
   "source": []
  },
  {
   "cell_type": "code",
   "execution_count": null,
   "id": "ebb2da98",
   "metadata": {},
   "outputs": [],
   "source": []
  },
  {
   "cell_type": "code",
   "execution_count": null,
   "id": "bb0be411",
   "metadata": {},
   "outputs": [],
   "source": []
  },
  {
   "cell_type": "markdown",
   "id": "-wy4nQ4jdVm6",
   "metadata": {
    "id": "-wy4nQ4jdVm6"
   },
   "source": [
    "## Loading Data into DB\n",
    "\n",
    "**method-1: using text file**\n",
    "\n",
    "\n",
    "\n",
    "1. Login to MySQL Console\n",
    "    - mysql -u root -p\n",
    "2. set global local_infile=true\n",
    "3. again login with following cmd.\n",
    "\t- mysql --local-infile=1 -u root -p\n",
    "\n",
    "4. To load text file data\n",
    "```sql\n",
    "LOAD DATA LOCAL INFILE 'D:\\\\DB\\\\MySQL-Tutorial\\\\text_files\\\\pets.txt' INTO TABLE TableName;\n",
    "\n",
    "```\n",
    "\n",
    "\n",
    "\n",
    "\n",
    "**methods-2: using script file**\n",
    "\n",
    "\n",
    "- First we will add all sql commands to be performed sequentially in script file.\n",
    "- save it with fileName.sql extension\n",
    "- run the following command and provide password\n",
    "\t```sql\n",
    "    mysql -u root -p < students.sql\n",
    "    ```\n",
    "- **NOTE**: file should be same path where we are running the command otherwise provide full file path."
   ]
  },
  {
   "cell_type": "markdown",
   "id": "vJXYbMpjds5k",
   "metadata": {
    "id": "vJXYbMpjds5k"
   },
   "source": []
  },
  {
   "cell_type": "markdown",
   "id": "a4ea4e31",
   "metadata": {
    "id": "a4ea4e31"
   },
   "source": [
    "## SELECTION\n",
    "\n",
    "- The SELECT statement is used to select data from a database.\n",
    "- The data returned is stored in a result table, called the result-set.\n",
    "\n",
    "```sql\n",
    "\n",
    "-- selects specified columns\n",
    "\n",
    "SELECT column1, column2, ...\n",
    "FROM table_name;\n",
    "\n",
    "-- selects all columns\n",
    "\n",
    "SELECT * FROM table_name;\n",
    "\n",
    "\n",
    "-- The SELECT DISTINCT statement is used to return only distinct (different) values.\n",
    "-- Inside a table, a column often contains many duplicate values; and sometimes wants to list the different (distinct) values.\n",
    "\n",
    "SELECT DISTINCT column1, column2, ...\n",
    "FROM table_name;\n",
    "\n",
    "-- To count distinct row count\n",
    "\n",
    "SELECT COUNT(DISTINCT col1) FROM TABLE;\n",
    "\n",
    "```"
   ]
  },
  {
   "cell_type": "markdown",
   "id": "e0f903a0",
   "metadata": {
    "id": "e0f903a0"
   },
   "source": [
    "#### WHERE clause\n",
    "\n",
    "- The WHERE clause is used to filter records.\n",
    "- It is used to extract only those records that fulfill a specified condition.\n",
    "\n",
    "```sql\n",
    "SELECT column1, column2, ...\n",
    "FROM table_name\n",
    "WHERE condition;\n",
    "```\n",
    "\n",
    "**Note: The WHERE clause is not only used in SELECT statements, it is also used in UPDATE, DELETE, etc.!**\n",
    "\n",
    "**Operators**\n",
    "\n",
    "![image.png](https://i.imgur.com/no6Ot1x.png)\n"
   ]
  },
  {
   "cell_type": "markdown",
   "id": "3df91e5d",
   "metadata": {
    "id": "3df91e5d"
   },
   "source": [
    "#### AND, OR and NOT Operators\n",
    "\n",
    "```sql\n",
    "The WHERE clause can be combined with AND, OR, and NOT operators.\n",
    "\n",
    "The AND and OR operators are used to filter records based on more than one condition:\n",
    "\n",
    "The AND operator displays a record if all the conditions separated by AND are TRUE.\n",
    "The OR operator displays a record if any of the conditions separated by OR is TRUE.\n",
    "The NOT operator displays a record if the condition(s) is NOT TRUE.\n",
    "```"
   ]
  },
  {
   "cell_type": "markdown",
   "id": "a1e8c568",
   "metadata": {
    "id": "a1e8c568"
   },
   "source": [
    "```sql\n",
    "SELECT column1, column2, ...\n",
    "FROM table_name\n",
    "WHERE condition1 AND condition2 AND condition3 ...;\n",
    "\n",
    "\n",
    "SELECT column1, column2, ...\n",
    "FROM table_name\n",
    "WHERE condition1 OR condition2 OR condition3 ...;\n",
    "\n",
    "SELECT column1, column2, ...\n",
    "FROM table_name\n",
    "WHERE NOT condition;\n",
    "\n",
    "```"
   ]
  },
  {
   "cell_type": "markdown",
   "id": "20111bce",
   "metadata": {
    "id": "20111bce"
   },
   "source": [
    "### ORDER BY Keyword\n",
    "- The ORDER BY keyword is used to sort the result-set in ascending or descending order.\n",
    "\n",
    "- The ORDER BY keyword sorts the records in ascending order by default. To sort the records in descending order, use the DESC keyword.\n",
    "\n",
    "\n",
    "```sql\n",
    "SELECT column1, column2, ...\n",
    "FROM table_name\n",
    "ORDER BY column1, column2, ... ASC|DESC;\n",
    "\n",
    "```"
   ]
  },
  {
   "cell_type": "markdown",
   "id": "87984fcf",
   "metadata": {
    "id": "87984fcf"
   },
   "source": [
    "### LIMIT Clause\n",
    "- The LIMIT clause is used to specify the number of records to return.\n",
    "\n",
    "- The LIMIT clause is useful on large tables with thousands of records.\n",
    "- Returning a large number of records can impact performance.\n",
    "\n",
    "\n",
    "```sql\n",
    "SELECT column_name(s)\n",
    "FROM table_name\n",
    "WHERE condition\n",
    "LIMIT number;\n",
    "\n",
    "```\n",
    "\n",
    "\n",
    "\n",
    "### MIN() and MAX() Functions\n",
    "\n",
    "- The MIN() function returns the smallest value of the selected column.\n",
    "\n",
    "- The MAX() function returns the largest value of the selected column.\n",
    "\n",
    "```sql\n",
    "SELECT MIN(column_name)\n",
    "FROM table_name\n",
    "WHERE condition;\n",
    "\n",
    "---------------------------\n",
    "\n",
    "SELECT MAX(column_name)\n",
    "FROM table_name\n",
    "WHERE condition;\n",
    "\n",
    "```\n",
    "\n",
    "### COUNT(), AVG() and SUM() Functions\n",
    "\n",
    "- The COUNT() function returns the number of rows that matches a specified criterion.\n",
    "\n",
    "```sql\n",
    "SELECT COUNT(column_name)\n",
    "FROM table_name\n",
    "WHERE condition;\n",
    "```\n",
    "\n",
    "- The AVG() function returns the average value of a numeric column.\n",
    "\n",
    "```sql\n",
    "SELECT AVG(column_name)\n",
    "FROM table_name\n",
    "WHERE condition;\n",
    "```\n",
    "\n",
    "- The SUM() function returns the total sum of a numeric column.\n",
    "\n",
    "```sql\n",
    "SELECT SUM(column_name)\n",
    "FROM table_name\n",
    "WHERE condition;\n",
    "\n",
    "```\n",
    "\n",
    "\n",
    "### LIKE Operator\n",
    "\n",
    "- The LIKE operator is used in a WHERE clause to search for a specified pattern in a column.\n",
    "\n",
    "- There are two wildcards often used in conjunction with the LIKE operator:\n",
    "\n",
    "    - The percent sign (%) represents zero, one, or multiple characters\n",
    "    - The underscore sign (_) represents one, single character\n",
    "\n",
    "- The percent sign and the underscore can also be used in combinations!\n",
    "\n",
    "```sql\n",
    "SELECT column1, column2, ...\n",
    "FROM table_name\n",
    "WHERE columnN LIKE pattern;\n",
    "```\n",
    "\n",
    "![image.png](https://i.imgur.com/r1TIzsw.png)\n",
    "\n",
    "\n",
    "\n",
    "### IN Operator\n",
    "\n",
    "- The IN operator allows you to specify multiple values in a WHERE clause.\n",
    "- The IN operator is a shorthand for multiple OR conditions.\n",
    "\n",
    "```sql\n",
    "SELECT column_name(s)\n",
    "FROM table_name\n",
    "WHERE column_name IN (value1, value2, ...);\n",
    "\n",
    "SELECT column_name(s)\n",
    "FROM table_name\n",
    "WHERE column_name IN (SELECT STATEMENT);\n",
    "\n",
    "\n",
    "```\n",
    "\n",
    "\n",
    "### BETWEEN Operator\n",
    "\n",
    "- The BETWEEN operator selects values within a given range. The values can be numbers, text, or dates.\n",
    "- The BETWEEN operator is inclusive: begin and end values are included.\n",
    "\n",
    "```sql\n",
    "\n",
    "SELECT column_name(s)\n",
    "FROM table_name\n",
    "WHERE column_name BETWEEN value1 AND value2;\n",
    "```\n",
    "\n",
    "### MySQL Aliases\n",
    "\n",
    "- Aliases are used to give a table, or a column in a table, a temporary name.\n",
    "- Aliases are often used to make column names more readable.\n",
    "- An alias only exists for the duration of that query.\n",
    "- An alias is created with the AS keyword.\n",
    "\n",
    "```sql\n",
    "SELECT column_name AS alias_name\n",
    "FROM table_name;\n",
    "\n",
    "\n",
    "SELECT column_name(s)\n",
    "FROM table_name AS alias_name;\n",
    "\n",
    "```\n",
    "\n",
    "### MySQL Comments\n",
    "- Comments are used to explain sections of SQL statements, or to prevent execution of SQL statements.\n",
    "\n",
    "**Single line comments start with --.**\n",
    "\n",
    "- Any text between -- and the end of the line will be ignored (will not be executed).\n",
    "\n",
    "```sql\n",
    "-- Select all:\n",
    "SELECT * FROM Customers;\n",
    "```\n",
    "\n",
    "**Multi-line Comments**\n",
    "\n",
    "- Multi-line comments start with /* and end with */.\n",
    "\n",
    "- Any text between /* and */ will be ignored.*"
   ]
  },
  {
   "cell_type": "code",
   "execution_count": null,
   "id": "f109ff4f",
   "metadata": {
    "id": "f109ff4f"
   },
   "outputs": [],
   "source": []
  },
  {
   "cell_type": "markdown",
   "id": "a3e379dc",
   "metadata": {
    "id": "a3e379dc"
   },
   "source": [
    "## UPDATE\n",
    "\n",
    "- The UPDATE statement is used to modify the existing records in a table.\n",
    "\n",
    "```sql\n",
    "UPDATE table_name\n",
    "SET column1 = value1, column2 = value2, ...\n",
    "WHERE condition;\n",
    "```\n",
    "\n",
    "**NOTE**: The WHERE clause specifies which record(s) that should be updated. If you omit the WHERE clause, all records in the table will be updated!\n",
    "\n",
    "\n",
    "\n",
    "**Example**\n",
    "\n",
    "```sql\n",
    "UPDATE Customers\n",
    "SET ContactName = 'Alfred Schmidt', City = 'Frankfurt'\n",
    "WHERE CustomerID = 1;\n",
    "\n",
    "-- Multiple Records\n",
    "\n",
    "UPDATE Customers\n",
    "SET PostalCode = 00000\n",
    "WHERE Country = 'Mexico';\n",
    "\n",
    "\n",
    "-- updates all records\n",
    "\n",
    "UPDATE Customers\n",
    "SET PostalCode = 00000;\n",
    "\n",
    "\n",
    "```\n"
   ]
  },
  {
   "cell_type": "markdown",
   "id": "626e4477",
   "metadata": {
    "id": "626e4477"
   },
   "source": [
    "\n"
   ]
  },
  {
   "cell_type": "markdown",
   "id": "f25202aa",
   "metadata": {
    "id": "f25202aa"
   },
   "source": []
  },
  {
   "cell_type": "markdown",
   "id": "fa4c84d8",
   "metadata": {
    "id": "fa4c84d8"
   },
   "source": [
    "## DELETE\n",
    "\n",
    "- The DELETE statement is used to delete existing records in a table\n",
    "\n",
    "**Syntax**\n",
    "```sql\n",
    "DELETE FROM table_name WHERE condition;\n",
    "```\n",
    "\n",
    "**NOTE**:  The WHERE clause specifies which record(s) should be deleted. If you omit the WHERE clause, all records in the table will be deleted!\n",
    "\n",
    "\n",
    "**EXAMPLES**\n",
    "\n",
    "```sql\n",
    "DELETE FROM Customers WHERE CustomerName='Alfreds Futterkiste';\n",
    "\n",
    "-- Delete All Records\n",
    "\n",
    "DELETE FROM Customers;\n",
    "\n",
    "```"
   ]
  },
  {
   "cell_type": "code",
   "execution_count": null,
   "id": "ad17594c",
   "metadata": {
    "id": "ad17594c"
   },
   "outputs": [],
   "source": []
  },
  {
   "cell_type": "code",
   "execution_count": null,
   "id": "4akA8MRN5BVL",
   "metadata": {
    "id": "4akA8MRN5BVL"
   },
   "outputs": [],
   "source": []
  },
  {
   "cell_type": "markdown",
   "id": "ce2f549f",
   "metadata": {
    "id": "ce2f549f"
   },
   "source": [
    "## GROUP BY clause\n",
    "\n",
    "- The GROUP BY clause groups a set of rows into a set of summary rows by values of columns or expressions.\n",
    "\n",
    "- The GROUP BY clause returns one row for each group.\n",
    "- In other words, it reduces the number of rows in the result set.\n",
    "\n",
    "```sql\n",
    "SELECT\n",
    "    c1, c2,..., cn, aggregate_function(ci)\n",
    "FROM\n",
    "    table\n",
    "WHERE\n",
    "    where_conditions\n",
    "GROUP BY c1 , c2,...,cn;\n",
    "```\n",
    "\n",
    "![](https://i.imgur.com/qAtLYvA.png)\n",
    "\n",
    "- In practice, you often use the GROUP BY clause with aggregate functions such as SUM, AVG, MAX, MIN, and COUNT.\n",
    "- The aggregate function that appears in the SELECT clause provides the information of each group.\n",
    "\n",
    "\n",
    "<img src = \"https://www.programiz.com/sites/tutorial2program/files/sql-having.png\" height = \"400\" width = \"600\">\n",
    "\n",
    "\n",
    "```sql\n",
    "\n",
    "SELECT\n",
    "    status\n",
    "FROM\n",
    "    orders\n",
    "GROUP BY status;\n",
    "\n",
    "\n",
    "--------------------\n",
    "\n",
    "SELECT\n",
    "    status, COUNT(*)\n",
    "FROM\n",
    "    orders\n",
    "GROUP BY status;\n",
    "\n",
    "--------------- with aggregate functions -------------\n",
    "\n",
    "SELECT\n",
    "    status,\n",
    "    SUM(quantityOrdered * priceEach) AS amount\n",
    "FROM\n",
    "    orders\n",
    "INNER JOIN orderdetails\n",
    "    USING (orderNumber)\n",
    "GROUP BY\n",
    "    status;\n",
    "\n",
    "\n",
    "\n",
    "---------------\n",
    "\n",
    "SELECT\n",
    "    orderNumber,\n",
    "    SUM(quantityOrdered * priceEach) AS total\n",
    "FROM\n",
    "    orderdetails\n",
    "GROUP BY\n",
    "    orderNumber;\n",
    "    \n",
    "\n",
    "------------------- with expression example\n",
    "\n",
    "SELECT\n",
    "    YEAR(orderDate) AS year,\n",
    "    SUM(quantityOrdered * priceEach) AS total\n",
    "FROM\n",
    "    orders\n",
    "INNER JOIN orderdetails\n",
    "    USING (orderNumber)\n",
    "WHERE\n",
    "    status = 'Shipped'\n",
    "GROUP BY\n",
    "    YEAR(orderDate);\n",
    "    \n",
    "    \n",
    "```"
   ]
  },
  {
   "cell_type": "code",
   "execution_count": null,
   "id": "e57fe9dc",
   "metadata": {
    "id": "e57fe9dc"
   },
   "outputs": [],
   "source": []
  },
  {
   "cell_type": "code",
   "execution_count": null,
   "id": "53f96e2a",
   "metadata": {
    "id": "53f96e2a"
   },
   "outputs": [],
   "source": []
  },
  {
   "cell_type": "markdown",
   "id": "bd4d3f39",
   "metadata": {
    "id": "bd4d3f39"
   },
   "source": [
    "###  HAVING Clause\n",
    "\n",
    "- The HAVING clause was added to SQL because the WHERE keyword cannot be used with aggregate functions.\n",
    "\n",
    "```sql\n",
    "SELECT column_name(s)\n",
    "FROM table_name\n",
    "WHERE condition\n",
    "GROUP BY column_name(s)\n",
    "HAVING condition\n",
    "ORDER BY column_name(s);\n",
    "\n",
    "```\n",
    "\n",
    "\n",
    "```sql\n",
    "-- GROUP BY with HAVING clause example\n",
    "\n",
    "SELECT\n",
    "    a.ordernumber,\n",
    "    status,\n",
    "    SUM(priceeach*quantityOrdered) total\n",
    "FROM\n",
    "    orderdetails a\n",
    "INNER JOIN orders b\n",
    "    ON b.ordernumber = a.ordernumber\n",
    "GROUP BY  \n",
    "    ordernumber,\n",
    "    status\n",
    "HAVING\n",
    "    status = 'Shipped' AND\n",
    "    total > 1500;\n",
    "\n",
    "\n",
    "```"
   ]
  },
  {
   "cell_type": "markdown",
   "id": "2289990f",
   "metadata": {
    "id": "2289990f"
   },
   "source": [
    "\n"
   ]
  },
  {
   "attachments": {
    "image.png": {
     "image/png": "[encoded data removed]"
    }
   },
   "cell_type": "markdown",
   "id": "d51b6968",
   "metadata": {},
   "source": [
    "![image.png](attachment:image.png)"
   ]
  },
  {
   "cell_type": "code",
   "execution_count": null,
   "id": "fd638160",
   "metadata": {},
   "outputs": [],
   "source": []
  }
 ],
 "metadata": {
  "colab": {
   "provenance": []
  },
  "kernelspec": {
   "display_name": "Python 3 (ipykernel)",
   "language": "python",
   "name": "python3"
  },
  "language_info": {
   "codemirror_mode": {
    "name": "ipython",
    "version": 3
   },
   "file_extension": ".py",
   "mimetype": "text/x-python",
   "name": "python",
   "nbconvert_exporter": "python",
   "pygments_lexer": "ipython3",
   "version": "3.11.5"
  }
 },
 "nbformat": 4,
 "nbformat_minor": 5
}
